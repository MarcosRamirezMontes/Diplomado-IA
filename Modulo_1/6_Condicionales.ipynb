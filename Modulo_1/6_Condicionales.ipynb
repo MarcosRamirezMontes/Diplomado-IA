{
 "cells": [
  {
   "cell_type": "markdown",
   "metadata": {},
   "source": [
    "# Condicionales"
   ]
  },
  {
   "cell_type": "code",
   "execution_count": 10,
   "metadata": {},
   "outputs": [],
   "source": [
    "temperatura = 20\n",
    "if temperatura > 35:\n",
    "    print('Aviso por alta temperatura')\n",
    "    # Es importante tener una tabulacion antes de print de lo contrario solo marcara error"
   ]
  },
  {
   "cell_type": "code",
   "execution_count": 11,
   "metadata": {},
   "outputs": [
    {
     "name": "stdout",
     "output_type": "stream",
     "text": [
      "Parametros normales\n"
     ]
    }
   ],
   "source": [
    "if temperatura > 35:\n",
    "    print('Aviso por alta temperatura')\n",
    "else:\n",
    "    print('Parametros normales')"
   ]
  },
  {
   "cell_type": "code",
   "execution_count": 16,
   "metadata": {},
   "outputs": [
    {
     "name": "stdout",
     "output_type": "stream",
     "text": [
      "Alerta verde\n"
     ]
    }
   ],
   "source": [
    "temperatura = 19\n",
    "if temperatura < 20:\n",
    "    if temperatura <10:\n",
    "        print('Alerta azul')\n",
    "    else:\n",
    "        print('Alerta verde')\n",
    "else:\n",
    "    if temperatura <30:\n",
    "        print('Alerta Naranja')\n",
    "    else:\n",
    "        print('Alerta roja')\n"
   ]
  },
  {
   "cell_type": "code",
   "execution_count": 20,
   "metadata": {},
   "outputs": [
    {
     "name": "stdout",
     "output_type": "stream",
     "text": [
      "Alerta Naranja\n"
     ]
    }
   ],
   "source": [
    "temperatura = 25\n",
    "if temperatura < 10:\n",
    "    print('Alerta Azul')\n",
    "elif temperatura < 20:\n",
    "        print('Alerta verde')\n",
    "elif temperatura <30:\n",
    "    print('Alerta Naranja')\n",
    "else:\n",
    "    print('Alerta roja')"
   ]
  },
  {
   "cell_type": "code",
   "execution_count": null,
   "metadata": {},
   "outputs": [],
   "source": []
  }
 ],
 "metadata": {
  "kernelspec": {
   "display_name": "Diplomado",
   "language": "python",
   "name": "python3"
  },
  "language_info": {
   "codemirror_mode": {
    "name": "ipython",
    "version": 3
   },
   "file_extension": ".py",
   "mimetype": "text/x-python",
   "name": "python",
   "nbconvert_exporter": "python",
   "pygments_lexer": "ipython3",
   "version": "3.10.14"
  }
 },
 "nbformat": 4,
 "nbformat_minor": 2
}

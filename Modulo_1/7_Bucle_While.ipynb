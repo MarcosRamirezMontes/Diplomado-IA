{
 "cells": [
  {
   "cell_type": "markdown",
   "metadata": {},
   "source": [
    "# La Sentencia While"
   ]
  },
  {
   "cell_type": "code",
   "execution_count": 2,
   "metadata": {},
   "outputs": [
    {
     "name": "stdout",
     "output_type": "stream",
     "text": [
      "Hola que tal !!\n",
      "Hola que tal !!\n",
      "Hola que tal !!\n",
      "Hola que tal !!\n",
      "Que tenga un buen dia\n"
     ]
    }
   ],
   "source": [
    "stop_word = 's'\n",
    "while stop_word == 's':\n",
    "    print('Hola que tal !!')\n",
    "    stop_word = input('¿Quieres otro saludo? [s,n]')\n",
    "print('Que tenga un buen dia')"
   ]
  },
  {
   "cell_type": "code",
   "execution_count": 4,
   "metadata": {},
   "outputs": [
    {
     "name": "stdout",
     "output_type": "stream",
     "text": [
      "Hola\n"
     ]
    }
   ],
   "source": [
    "while True:\n",
    "    print('Hola')\n",
    "    break"
   ]
  },
  {
   "cell_type": "code",
   "execution_count": 5,
   "metadata": {},
   "outputs": [
    {
     "name": "stdout",
     "output_type": "stream",
     "text": [
      "Hola que tal !!\n",
      "Hola que tal !!\n",
      "Hola que tal !!\n",
      "Que tenga un buen dia\n"
     ]
    }
   ],
   "source": [
    "stop_word = 's'\n",
    "MAX_REP =3\n",
    "n_rep = 0\n",
    "while stop_word == 's':\n",
    "    print('Hola que tal !!')\n",
    "    stop_word = input('¿Quieres otro saludo? [s,n]')\n",
    "    n_rep = n_rep + 1\n",
    "    if n_rep == MAX_REP:\n",
    "        break\n",
    "print('Que tenga un buen dia')"
   ]
  },
  {
   "cell_type": "code",
   "execution_count": 11,
   "metadata": {},
   "outputs": [
    {
     "name": "stdout",
     "output_type": "stream",
     "text": [
      "contadores: 1\n",
      "contadores: 2\n",
      "contadores: 3\n",
      "contadores: 4\n",
      "contadores: 5\n"
     ]
    }
   ],
   "source": [
    "contador = 1\n",
    "while contador <= 5:\n",
    "    print(f'contadores: {contador}')\n",
    "    contador += 1"
   ]
  },
  {
   "cell_type": "code",
   "execution_count": 33,
   "metadata": {},
   "outputs": [
    {
     "name": "stdout",
     "output_type": "stream",
     "text": [
      "intenta de nuevo\n",
      "Felicitaciones\n"
     ]
    }
   ],
   "source": [
    "numero_secreto = 5\n",
    "adivinado = False\n",
    "\n",
    "while not adivinado:\n",
    "    numero_usuario = int(input('Ingrese un numero: '))\n",
    "    if numero_secreto == numero_usuario:\n",
    "        print('Felicitaciones')\n",
    "        adivinado = True\n",
    "    else:\n",
    "        print('intenta de nuevo')\n"
   ]
  },
  {
   "cell_type": "code",
   "execution_count": 27,
   "metadata": {},
   "outputs": [
    {
     "name": "stdout",
     "output_type": "stream",
     "text": [
      "Se recomienda ventilacion\n",
      "Se recomienda riego y ventilacion\n",
      "Se recomienda riego\n",
      "Se recomienda riego\n"
     ]
    }
   ],
   "source": [
    "inv = 0\n",
    "while inv <= 3 :\n",
    "    temperatura = float(input('Ingrese la temperatura: '))\n",
    "    \n",
    "    humedad = float(input('Ingrese la humedad: '))\n",
    "    \n",
    "    if temperatura > 30:\n",
    "        if humedad >= 30:\n",
    "            recomendacion = 'Se recomienda ventilacion'\n",
    "        else:\n",
    "            recomendacion = 'Se recomienda riego y ventilacion'\n",
    "    else:\n",
    "        if humedad < 30:\n",
    "            recomendacion = 'Se recomienda riego'\n",
    "        else:\n",
    "            recomendacion = 'No se necesitan acciones'\n",
    "    \n",
    "    print(recomendacion)\n",
    "\n",
    "    inv += 1"
   ]
  },
  {
   "cell_type": "code",
   "execution_count": null,
   "metadata": {},
   "outputs": [],
   "source": []
  }
 ],
 "metadata": {
  "kernelspec": {
   "display_name": "Diplomado",
   "language": "python",
   "name": "python3"
  },
  "language_info": {
   "codemirror_mode": {
    "name": "ipython",
    "version": 3
   },
   "file_extension": ".py",
   "mimetype": "text/x-python",
   "name": "python",
   "nbconvert_exporter": "python",
   "pygments_lexer": "ipython3",
   "version": "3.10.14"
  }
 },
 "nbformat": 4,
 "nbformat_minor": 2
}

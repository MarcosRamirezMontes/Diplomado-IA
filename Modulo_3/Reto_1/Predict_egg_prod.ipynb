{
 "cells": [
  {
   "cell_type": "markdown",
   "metadata": {},
   "source": [
    "#Egg prediction production"
   ]
  },
  {
   "cell_type": "markdown",
   "metadata": {},
   "source": [
    "### About dataset"
   ]
  },
  {
   "cell_type": "markdown",
   "metadata": {},
   "source": [
    "Creating a dataset that combines humidex, air quality, and water quality to predict egg production in poultry involves integrating data from multiple sources and understanding the complex interactions between environmental conditions and poultry health.\n",
    "Context1\n",
    "\n",
    "Poultry Farming: Egg production is a critical aspect of poultry farming. Farmers aim to optimize conditions to maximize yield.\n",
    "Environmental Impact: Environmental factors like temperature, humidity, and air quality significantly affect the health and productivity of poultry.\n",
    "Humidex: This index measures perceived temperature, combining temperature and humidity, which impacts poultry comfort and stress levels.\n",
    "Air Quality: Pollutants like ammonia, carbon dioxide, and dust can affect respiratory health and overall well-being of poultry.\n",
    "Water Quality: Clean water with balanced pH and low contamination levels is crucial for the health and productivity of poultry.\n",
    "Sources\n",
    "Humidex Data:\n",
    "Weather Stations: Local meteorological stations provide temperature and humidity data.\n",
    "Online Weather Services: APIs like OpenWeatherMap or Weather.com can offer historical and real-time weather data.\n",
    "Air Quality Data:\n",
    "-Environmental Monitoring Agencies: Government or private organizations monitor air quality parameters.\n",
    "-Air Quality Sensors: On-farm sensors measure pollutants specific to the poultry environment.\n",
    "Water Quality Data:\n",
    "-On-Site Water Testing: Regular tests for pH, nitrates, bacteria, and other contaminants.\n",
    "-Local Water Authorities: Reports and data from municipal water supplies or natural water sources.\n",
    "Egg Production Data:\n",
    "-Farm Records: Daily or weekly records of egg production.\n",
    "-Poultry Management Systems: Software that tracks various aspects of poultry farming, including production metrics."
   ]
  },
  {
   "cell_type": "markdown",
   "metadata": {},
   "source": []
  },
  {
   "cell_type": "code",
   "execution_count": 1,
   "metadata": {},
   "outputs": [],
   "source": [
    "import pandas as pd"
   ]
  },
  {
   "cell_type": "code",
   "execution_count": 2,
   "metadata": {},
   "outputs": [
    {
     "data": {
      "text/html": [
       "<div>\n",
       "<style scoped>\n",
       "    .dataframe tbody tr th:only-of-type {\n",
       "        vertical-align: middle;\n",
       "    }\n",
       "\n",
       "    .dataframe tbody tr th {\n",
       "        vertical-align: top;\n",
       "    }\n",
       "\n",
       "    .dataframe thead th {\n",
       "        text-align: right;\n",
       "    }\n",
       "</style>\n",
       "<table border=\"1\" class=\"dataframe\">\n",
       "  <thead>\n",
       "    <tr style=\"text-align: right;\">\n",
       "      <th></th>\n",
       "      <th>Unnamed: 0</th>\n",
       "      <th>AQI</th>\n",
       "      <th>WQI</th>\n",
       "      <th>Humidex</th>\n",
       "      <th>Production</th>\n",
       "    </tr>\n",
       "  </thead>\n",
       "  <tbody>\n",
       "    <tr>\n",
       "      <th>0</th>\n",
       "      <td>0</td>\n",
       "      <td>21.957796</td>\n",
       "      <td>95.950538</td>\n",
       "      <td>35.016212</td>\n",
       "      <td>High</td>\n",
       "    </tr>\n",
       "    <tr>\n",
       "      <th>1</th>\n",
       "      <td>1</td>\n",
       "      <td>8.731716</td>\n",
       "      <td>88.559769</td>\n",
       "      <td>35.822153</td>\n",
       "      <td>High</td>\n",
       "    </tr>\n",
       "    <tr>\n",
       "      <th>2</th>\n",
       "      <td>2</td>\n",
       "      <td>8.402340</td>\n",
       "      <td>93.361755</td>\n",
       "      <td>34.277358</td>\n",
       "      <td>High</td>\n",
       "    </tr>\n",
       "    <tr>\n",
       "      <th>3</th>\n",
       "      <td>3</td>\n",
       "      <td>14.466574</td>\n",
       "      <td>98.947226</td>\n",
       "      <td>33.320641</td>\n",
       "      <td>High</td>\n",
       "    </tr>\n",
       "    <tr>\n",
       "      <th>4</th>\n",
       "      <td>4</td>\n",
       "      <td>15.774947</td>\n",
       "      <td>94.584586</td>\n",
       "      <td>30.619136</td>\n",
       "      <td>High</td>\n",
       "    </tr>\n",
       "    <tr>\n",
       "      <th>...</th>\n",
       "      <td>...</td>\n",
       "      <td>...</td>\n",
       "      <td>...</td>\n",
       "      <td>...</td>\n",
       "      <td>...</td>\n",
       "    </tr>\n",
       "    <tr>\n",
       "      <th>1495</th>\n",
       "      <td>1495</td>\n",
       "      <td>231.593795</td>\n",
       "      <td>37.635504</td>\n",
       "      <td>57.094668</td>\n",
       "      <td>Low</td>\n",
       "    </tr>\n",
       "    <tr>\n",
       "      <th>1496</th>\n",
       "      <td>1496</td>\n",
       "      <td>157.352569</td>\n",
       "      <td>7.281023</td>\n",
       "      <td>56.858129</td>\n",
       "      <td>Low</td>\n",
       "    </tr>\n",
       "    <tr>\n",
       "      <th>1497</th>\n",
       "      <td>1497</td>\n",
       "      <td>166.108488</td>\n",
       "      <td>0.014403</td>\n",
       "      <td>51.625506</td>\n",
       "      <td>Low</td>\n",
       "    </tr>\n",
       "    <tr>\n",
       "      <th>1498</th>\n",
       "      <td>1498</td>\n",
       "      <td>443.975620</td>\n",
       "      <td>21.000767</td>\n",
       "      <td>48.024332</td>\n",
       "      <td>Low</td>\n",
       "    </tr>\n",
       "    <tr>\n",
       "      <th>1499</th>\n",
       "      <td>1499</td>\n",
       "      <td>443.093485</td>\n",
       "      <td>21.781599</td>\n",
       "      <td>58.197795</td>\n",
       "      <td>Low</td>\n",
       "    </tr>\n",
       "  </tbody>\n",
       "</table>\n",
       "<p>1500 rows × 5 columns</p>\n",
       "</div>"
      ],
      "text/plain": [
       "      Unnamed: 0         AQI        WQI    Humidex Production\n",
       "0              0   21.957796  95.950538  35.016212       High\n",
       "1              1    8.731716  88.559769  35.822153       High\n",
       "2              2    8.402340  93.361755  34.277358       High\n",
       "3              3   14.466574  98.947226  33.320641       High\n",
       "4              4   15.774947  94.584586  30.619136       High\n",
       "...          ...         ...        ...        ...        ...\n",
       "1495        1495  231.593795  37.635504  57.094668        Low\n",
       "1496        1496  157.352569   7.281023  56.858129        Low\n",
       "1497        1497  166.108488   0.014403  51.625506        Low\n",
       "1498        1498  443.975620  21.000767  48.024332        Low\n",
       "1499        1499  443.093485  21.781599  58.197795        Low\n",
       "\n",
       "[1500 rows x 5 columns]"
      ]
     },
     "execution_count": 2,
     "metadata": {},
     "output_type": "execute_result"
    }
   ],
   "source": [
    "egg_1 = pd.read_csv('egg_production_predict_poultry.csv')\n",
    "egg_1"
   ]
  },
  {
   "cell_type": "code",
   "execution_count": 3,
   "metadata": {},
   "outputs": [
    {
     "name": "stdout",
     "output_type": "stream",
     "text": [
      "<class 'pandas.core.frame.DataFrame'>\n",
      "RangeIndex: 1500 entries, 0 to 1499\n",
      "Data columns (total 5 columns):\n",
      " #   Column      Non-Null Count  Dtype  \n",
      "---  ------      --------------  -----  \n",
      " 0   Unnamed: 0  1500 non-null   int64  \n",
      " 1   AQI         1500 non-null   float64\n",
      " 2   WQI         1500 non-null   float64\n",
      " 3   Humidex     1500 non-null   float64\n",
      " 4   Production  1500 non-null   object \n",
      "dtypes: float64(3), int64(1), object(1)\n",
      "memory usage: 58.7+ KB\n"
     ]
    }
   ],
   "source": [
    "egg_1.info()"
   ]
  },
  {
   "cell_type": "code",
   "execution_count": 8,
   "metadata": {},
   "outputs": [],
   "source": [
    "egg_1_new = egg_1.drop(columns=egg_1.columns[egg_1.columns.str.contains('Unnamed')])"
   ]
  },
  {
   "cell_type": "code",
   "execution_count": 9,
   "metadata": {},
   "outputs": [
    {
     "data": {
      "text/html": [
       "<div>\n",
       "<style scoped>\n",
       "    .dataframe tbody tr th:only-of-type {\n",
       "        vertical-align: middle;\n",
       "    }\n",
       "\n",
       "    .dataframe tbody tr th {\n",
       "        vertical-align: top;\n",
       "    }\n",
       "\n",
       "    .dataframe thead th {\n",
       "        text-align: right;\n",
       "    }\n",
       "</style>\n",
       "<table border=\"1\" class=\"dataframe\">\n",
       "  <thead>\n",
       "    <tr style=\"text-align: right;\">\n",
       "      <th></th>\n",
       "      <th>AQI</th>\n",
       "      <th>WQI</th>\n",
       "      <th>Humidex</th>\n",
       "      <th>Production</th>\n",
       "    </tr>\n",
       "  </thead>\n",
       "  <tbody>\n",
       "    <tr>\n",
       "      <th>0</th>\n",
       "      <td>21.957796</td>\n",
       "      <td>95.950538</td>\n",
       "      <td>35.016212</td>\n",
       "      <td>High</td>\n",
       "    </tr>\n",
       "    <tr>\n",
       "      <th>1</th>\n",
       "      <td>8.731716</td>\n",
       "      <td>88.559769</td>\n",
       "      <td>35.822153</td>\n",
       "      <td>High</td>\n",
       "    </tr>\n",
       "    <tr>\n",
       "      <th>2</th>\n",
       "      <td>8.402340</td>\n",
       "      <td>93.361755</td>\n",
       "      <td>34.277358</td>\n",
       "      <td>High</td>\n",
       "    </tr>\n",
       "    <tr>\n",
       "      <th>3</th>\n",
       "      <td>14.466574</td>\n",
       "      <td>98.947226</td>\n",
       "      <td>33.320641</td>\n",
       "      <td>High</td>\n",
       "    </tr>\n",
       "    <tr>\n",
       "      <th>4</th>\n",
       "      <td>15.774947</td>\n",
       "      <td>94.584586</td>\n",
       "      <td>30.619136</td>\n",
       "      <td>High</td>\n",
       "    </tr>\n",
       "  </tbody>\n",
       "</table>\n",
       "</div>"
      ],
      "text/plain": [
       "         AQI        WQI    Humidex Production\n",
       "0  21.957796  95.950538  35.016212       High\n",
       "1   8.731716  88.559769  35.822153       High\n",
       "2   8.402340  93.361755  34.277358       High\n",
       "3  14.466574  98.947226  33.320641       High\n",
       "4  15.774947  94.584586  30.619136       High"
      ]
     },
     "execution_count": 9,
     "metadata": {},
     "output_type": "execute_result"
    }
   ],
   "source": [
    "egg_1_new.head()"
   ]
  },
  {
   "cell_type": "code",
   "execution_count": 10,
   "metadata": {},
   "outputs": [],
   "source": [
    "nuevo_orden = ['Production','AQI','WQI','Humidex']\n",
    "egg =egg_1_new[nuevo_orden]"
   ]
  },
  {
   "cell_type": "code",
   "execution_count": 18,
   "metadata": {},
   "outputs": [
    {
     "data": {
      "text/plain": [
       "<bound method DataFrame.cumsum of      Production         AQI        WQI    Humidex\n",
       "0          High   21.957796  95.950538  35.016212\n",
       "1          High    8.731716  88.559769  35.822153\n",
       "2          High    8.402340  93.361755  34.277358\n",
       "3          High   14.466574  98.947226  33.320641\n",
       "4          High   15.774947  94.584586  30.619136\n",
       "...         ...         ...        ...        ...\n",
       "1495        Low  231.593795  37.635504  57.094668\n",
       "1496        Low  157.352569   7.281023  56.858129\n",
       "1497        Low  166.108488   0.014403  51.625506\n",
       "1498        Low  443.975620  21.000767  48.024332\n",
       "1499        Low  443.093485  21.781599  58.197795\n",
       "\n",
       "[1500 rows x 4 columns]>"
      ]
     },
     "execution_count": 18,
     "metadata": {},
     "output_type": "execute_result"
    }
   ],
   "source": [
    "egg.cumsum"
   ]
  },
  {
   "cell_type": "code",
   "execution_count": 19,
   "metadata": {},
   "outputs": [
    {
     "data": {
      "text/plain": [
       "Production    0\n",
       "AQI           0\n",
       "WQI           0\n",
       "Humidex       0\n",
       "dtype: int64"
      ]
     },
     "execution_count": 19,
     "metadata": {},
     "output_type": "execute_result"
    }
   ],
   "source": [
    "egg.isnull().sum()"
   ]
  },
  {
   "cell_type": "code",
   "execution_count": 21,
   "metadata": {},
   "outputs": [],
   "source": [
    "Production_labels = {'High':2,'Medium': 1, 'Low': 0}\n",
    "\n",
    "egg['Production'] = egg['Production'].map(Production_labels)"
   ]
  },
  {
   "cell_type": "code",
   "execution_count": 23,
   "metadata": {},
   "outputs": [
    {
     "name": "stdout",
     "output_type": "stream",
     "text": [
      "<class 'pandas.core.frame.DataFrame'>\n",
      "RangeIndex: 1500 entries, 0 to 1499\n",
      "Data columns (total 4 columns):\n",
      " #   Column      Non-Null Count  Dtype  \n",
      "---  ------      --------------  -----  \n",
      " 0   Production  1500 non-null   int64  \n",
      " 1   AQI         1500 non-null   float64\n",
      " 2   WQI         1500 non-null   float64\n",
      " 3   Humidex     1500 non-null   float64\n",
      "dtypes: float64(3), int64(1)\n",
      "memory usage: 47.0 KB\n"
     ]
    }
   ],
   "source": [
    "egg.info()"
   ]
  },
  {
   "cell_type": "code",
   "execution_count": 24,
   "metadata": {},
   "outputs": [],
   "source": [
    "import seaborn as sns"
   ]
  },
  {
   "cell_type": "code",
   "execution_count": 28,
   "metadata": {},
   "outputs": [
    {
     "name": "stdout",
     "output_type": "stream",
     "text": [
      "             AQI        WQI    Humidex\n",
      "0      21.957796  95.950538  35.016212\n",
      "1       8.731716  88.559769  35.822153\n",
      "2       8.402340  93.361755  34.277358\n",
      "3      14.466574  98.947226  33.320641\n",
      "4      15.774947  94.584586  30.619136\n",
      "...          ...        ...        ...\n",
      "1495  231.593795  37.635504  57.094668\n",
      "1496  157.352569   7.281023  56.858129\n",
      "1497  166.108488   0.014403  51.625506\n",
      "1498  443.975620  21.000767  48.024332\n",
      "1499  443.093485  21.781599  58.197795\n",
      "\n",
      "[1500 rows x 3 columns]\n"
     ]
    }
   ],
   "source": [
    "variables = egg.drop(columns='Production')\n",
    "print(variables)"
   ]
  },
  {
   "cell_type": "code",
   "execution_count": 29,
   "metadata": {},
   "outputs": [
    {
     "name": "stdout",
     "output_type": "stream",
     "text": [
      "limite_inferior es: AQI       -203.546794\n",
      "WQI        -53.505334\n",
      "Humidex     14.322904\n",
      "dtype: float64, limite_superior es: AQI        439.811999\n",
      "WQI        168.376703\n",
      "Humidex     69.521205\n",
      "dtype: float64\n"
     ]
    }
   ],
   "source": [
    "quantile_1 = variables.quantile(0.25)\n",
    "quantile_3 = variables.quantile(0.75)\n",
    "\n",
    "IQR= quantile_3 - quantile_1 \n",
    "\n",
    "LIM_INF = quantile_1 - 1.5 * IQR\n",
    "LIM_SUP = quantile_3 + 1.5 * IQR\n",
    "\n",
    "print(f'limite_inferior es: {LIM_INF}, limite_superior es: {LIM_SUP}')\n",
    "LIMITES_INF = LIM_INF\n",
    "LIMITES_SUP = LIM_SUP"
   ]
  },
  {
   "cell_type": "code",
   "execution_count": 30,
   "metadata": {},
   "outputs": [
    {
     "name": "stdout",
     "output_type": "stream",
     "text": [
      "-203.54679408124997 439.81199884874997\n"
     ]
    },
    {
     "data": {
      "image/png": "[encoded data removed]",
      "text/plain": [
       "<Figure size 640x480 with 1 Axes>"
      ]
     },
     "metadata": {},
     "output_type": "display_data"
    }
   ],
   "source": [
    "sns.boxplot(x=egg['AQI'])\n",
    "print(LIMITES_INF['AQI'],LIMITES_SUP['AQI'])"
   ]
  },
  {
   "cell_type": "code",
   "execution_count": 43,
   "metadata": {},
   "outputs": [
    {
     "data": {
      "text/plain": [
       "0       False\n",
       "1       False\n",
       "2       False\n",
       "3       False\n",
       "4       False\n",
       "        ...  \n",
       "1495    False\n",
       "1496    False\n",
       "1497    False\n",
       "1498     True\n",
       "1499     True\n",
       "Name: AQI, Length: 1500, dtype: bool"
      ]
     },
     "execution_count": 43,
     "metadata": {},
     "output_type": "execute_result"
    }
   ],
   "source": [
    "outliers = egg['AQI'] > LIMITES_SUP['AQI']\n",
    "outliers"
   ]
  },
  {
   "cell_type": "code",
   "execution_count": 45,
   "metadata": {},
   "outputs": [
    {
     "data": {
      "text/plain": [
       "np.float64(114.73346407552303)"
      ]
     },
     "execution_count": 45,
     "metadata": {},
     "output_type": "execute_result"
    }
   ],
   "source": [
    "media_AQI = egg.loc[~outliers, 'AQI'].mean()\n",
    "media_AQI"
   ]
  },
  {
   "cell_type": "markdown",
   "metadata": {},
   "source": [
    "### reemplazo de outliers por media"
   ]
  },
  {
   "cell_type": "code",
   "execution_count": 46,
   "metadata": {},
   "outputs": [],
   "source": [
    "egg.loc[outliers,'AQI'] = media_AQI"
   ]
  },
  {
   "cell_type": "code",
   "execution_count": 31,
   "metadata": {},
   "outputs": [
    {
     "name": "stdout",
     "output_type": "stream",
     "text": [
      "-53.505333645 168.376702875\n"
     ]
    },
    {
     "data": {
      "image/png": "[encoded data removed]",
      "text/plain": [
       "<Figure size 640x480 with 1 Axes>"
      ]
     },
     "metadata": {},
     "output_type": "display_data"
    }
   ],
   "source": [
    "sns.boxplot(x=egg['WQI'])\n",
    "print(LIMITES_INF['WQI'],LIMITES_SUP['WQI'])"
   ]
  },
  {
   "cell_type": "code",
   "execution_count": 32,
   "metadata": {},
   "outputs": [
    {
     "name": "stdout",
     "output_type": "stream",
     "text": [
      "14.322903904999993 69.521205365\n"
     ]
    },
    {
     "data": {
      "image/png": "[encoded data removed]",
      "text/plain": [
       "<Figure size 640x480 with 1 Axes>"
      ]
     },
     "metadata": {},
     "output_type": "display_data"
    }
   ],
   "source": [
    "sns.boxplot(x=egg['Humidex'])\n",
    "print(LIMITES_INF['Humidex'],LIMITES_SUP['Humidex'])"
   ]
  },
  {
   "cell_type": "code",
   "execution_count": 33,
   "metadata": {},
   "outputs": [],
   "source": [
    "import matplotlib.pyplot as plt"
   ]
  },
  {
   "cell_type": "code",
   "execution_count": 48,
   "metadata": {},
   "outputs": [
    {
     "data": {
      "text/plain": [
       "<function matplotlib.pyplot.show(close=None, block=None)>"
      ]
     },
     "execution_count": 48,
     "metadata": {},
     "output_type": "execute_result"
    },
    {
     "data": {
      "image/png": "[encoded data removed]",
      "text/plain": [
       "<Figure size 640x480 with 1 Axes>"
      ]
     },
     "metadata": {},
     "output_type": "display_data"
    }
   ],
   "source": [
    "plt.plot(egg['AQI'],egg['Production'])\n",
    "plt.show"
   ]
  },
  {
   "cell_type": "code",
   "execution_count": 40,
   "metadata": {},
   "outputs": [
    {
     "data": {
      "text/plain": [
       "<function matplotlib.pyplot.show(close=None, block=None)>"
      ]
     },
     "execution_count": 40,
     "metadata": {},
     "output_type": "execute_result"
    },
    {
     "data": {
      "image/png": "[encoded data removed]",
      "text/plain": [
       "<Figure size 640x480 with 1 Axes>"
      ]
     },
     "metadata": {},
     "output_type": "display_data"
    }
   ],
   "source": [
    "plt.plot(egg['WQI'],egg['Production'])\n",
    "plt.show"
   ]
  },
  {
   "cell_type": "code",
   "execution_count": 39,
   "metadata": {},
   "outputs": [
    {
     "data": {
      "text/plain": [
       "<function matplotlib.pyplot.show(close=None, block=None)>"
      ]
     },
     "execution_count": 39,
     "metadata": {},
     "output_type": "execute_result"
    },
    {
     "data": {
      "image/png": "[encoded data removed]",
      "text/plain": [
       "<Figure size 640x480 with 1 Axes>"
      ]
     },
     "metadata": {},
     "output_type": "display_data"
    }
   ],
   "source": [
    "plt.plot(egg['Humidex'],egg['Production'])\n",
    "plt.show"
   ]
  },
  {
   "cell_type": "code",
   "execution_count": null,
   "metadata": {},
   "outputs": [],
   "source": []
  }
 ],
 "metadata": {
  "kernelspec": {
   "display_name": "Diplomado",
   "language": "python",
   "name": "python3"
  },
  "language_info": {
   "codemirror_mode": {
    "name": "ipython",
    "version": 3
   },
   "file_extension": ".py",
   "mimetype": "text/x-python",
   "name": "python",
   "nbconvert_exporter": "python",
   "pygments_lexer": "ipython3",
   "version": "3.10.14"
  }
 },
 "nbformat": 4,
 "nbformat_minor": 2
}
